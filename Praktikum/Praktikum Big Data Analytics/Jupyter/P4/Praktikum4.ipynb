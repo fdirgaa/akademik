{
 "cells": [
  {
   "cell_type": "code",
   "execution_count": 2,
   "metadata": {},
   "outputs": [
    {
     "name": "stdout",
     "output_type": "stream",
     "text": [
      "                                                   text              username\n",
      "0     Ini ak post 3 minggu yg lalu, macet banjir jak...  Galang Setyo Pambudi\n",
      "1     Jakarta banjir kemaren enak sepi mobil pada ma...   Penunggang Besi Tua\n",
      "2     Silahkan kaum kolam butek kejang2 \\n\\nTernyata...         Anti_Cebong07\n",
      "3     Sependek pikiran saya, jadi banjir Jakarta ada...     EnjoyINDONESIA 🇮🇩\n",
      "4     Pantesan bang @hotmanParis mendorong clash act...   BukanKacungKoruptor\n",
      "...                                                 ...                   ...\n",
      "1135  Tpi apakah jika kita membuang sampah pada temp...            Roy Fuhrer\n",
      "1136  Pelajari Penanganan Banjir, Legislator DKI Jak...          inipasti.com\n",
      "1137  Yang di Lebak diminta pasrah sementara yang di...              Hendra H\n",
      "1138  5. #KLHK akan terus melakukan langkah-langkah ...       Kementerian LHK\n",
      "1139  banjir jakarta banjir https://twitter.com/uyon...                 pay 🐳\n",
      "\n",
      "[1140 rows x 2 columns]\n"
     ]
    }
   ],
   "source": [
    "import pandas as pd\n",
    "\n",
    "filejson = \"banjirjkt.json\"\n",
    "baca = pd.read_json(filejson)\n",
    "pilih = baca[[\"text\",\"username\"]]\n",
    "print(pilih)\n",
    "\n",
    "pilih.to_csv(\"fleterbanjirjkt.csv\")"
   ]
  },
  {
   "cell_type": "code",
   "execution_count": 5,
   "metadata": {},
   "outputs": [
    {
     "name": "stdout",
     "output_type": "stream",
     "text": [
      "               timestamp  likes  retweets\n",
      "0    2020-01-02 23:59:55      2         0\n",
      "1    2020-01-02 23:59:54      0         0\n",
      "2    2020-01-02 23:59:53      2         0\n",
      "3    2020-01-02 23:59:50      1         0\n",
      "4    2020-01-02 23:59:49      8         1\n",
      "...                  ...    ...       ...\n",
      "1129 2020-01-30 23:57:37      4         0\n",
      "1130 2020-01-30 23:57:36      0         0\n",
      "1131 2020-01-30 23:57:34      5         0\n",
      "1132 2020-01-30 23:57:34      1         0\n",
      "1133 2020-01-30 23:57:26      1         0\n",
      "\n",
      "[1134 rows x 3 columns]\n"
     ]
    }
   ],
   "source": [
    "import pandas as pd\n",
    "\n",
    "filejson = \"tiktok.json\"\n",
    "baca = pd.read_json(filejson)\n",
    "pilih = baca[[\"timestamp\",\"likes\",\"retweets\"]]\n",
    "print(pilih)\n",
    "\n",
    "pilih.to_csv(\"hasilfiltertiktok.csv\")"
   ]
  },
  {
   "cell_type": "code",
   "execution_count": 7,
   "metadata": {},
   "outputs": [
    {
     "name": "stdout",
     "output_type": "stream",
     "text": [
      "              timestamp  likes  retweets\n",
      "0   2020-01-16 23:55:25      0         0\n",
      "1   2020-01-16 23:53:47      0         0\n",
      "2   2020-01-16 23:53:07      0         0\n",
      "3   2020-01-16 23:53:01      1         0\n",
      "4   2020-01-16 23:50:30      0         0\n",
      "..                  ...    ...       ...\n",
      "371 2020-02-04 20:21:32      0         0\n",
      "372 2020-02-04 20:11:39      3         0\n",
      "373 2020-02-04 19:37:51      0         0\n",
      "374 2020-02-04 19:07:29     37        18\n",
      "375 2020-02-04 18:50:11      0         0\n",
      "\n",
      "[376 rows x 3 columns]\n"
     ]
    }
   ],
   "source": [
    "import pandas as pd\n",
    "\n",
    "filejson = \"NKCTHI.json\"\n",
    "baca = pd.read_json(filejson)\n",
    "pilih = baca[[\"timestamp\",\"likes\",\"retweets\"]]\n",
    "print(pilih)\n",
    "\n",
    "pilih.to_csv(\"hasilfilter.csv\")"
   ]
  },
  {
   "cell_type": "code",
   "execution_count": null,
   "metadata": {},
   "outputs": [],
   "source": []
  }
 ],
 "metadata": {
  "kernelspec": {
   "display_name": "Python 3",
   "language": "python",
   "name": "python3"
  },
  "language_info": {
   "codemirror_mode": {
    "name": "ipython",
    "version": 3
   },
   "file_extension": ".py",
   "mimetype": "text/x-python",
   "name": "python",
   "nbconvert_exporter": "python",
   "pygments_lexer": "ipython3",
   "version": "3.7.4"
  }
 },
 "nbformat": 4,
 "nbformat_minor": 2
}
