{
 "cells": [
  {
   "cell_type": "code",
   "execution_count": 2,
   "metadata": {},
   "outputs": [
    {
     "name": "stdout",
     "output_type": "stream",
     "text": [
      "Masukkan nama anda : Aji karuniadi irawan\n",
      "Masukkan umur : 18\n",
      "Masukkan Jurusan : informatika\n",
      "Masukkan IPK : 3.7\n",
      "=====Cetak====\n",
      "Nama Anda : Aji karuniadi irawan\n",
      "Umur Anda : 18\n",
      "Jurusan Anda : informatika\n",
      "IPK Anda : 3.7\n"
     ]
    }
   ],
   "source": [
    "nama = input(\"Masukkan nama anda : \")\n",
    "umur = int(input(\"Masukkan umur : \"))\n",
    "jur = input(\"Masukkan Jurusan : \")\n",
    "ipk = float(input(\"Masukkan IPK : \"))\n",
    "\n",
    "print(\"=====Cetak====\")\n",
    "print(\"Nama Anda : \" +nama)\n",
    "print(\"Umur Anda : \" +str(umur))\n",
    "print(\"Jurusan Anda : \" +jur)\n",
    "print(\"IPK Anda : \" +str(ipk))"
   ]
  },
  {
   "cell_type": "code",
   "execution_count": 3,
   "metadata": {},
   "outputs": [
    {
     "name": "stdout",
     "output_type": "stream",
     "text": [
      "Nilai Pertama : 12\n",
      "Input Nilai Kedua : 2\n",
      "12 kali 2 = 24\n"
     ]
    }
   ],
   "source": [
    "a = int(input(\"Nilai Pertama : \"))\n",
    "b = int(input(\"Input Nilai Kedua : \"))\n",
    "c = a * b\n",
    "print(a, 'kali',b, '=', c)"
   ]
  },
  {
   "cell_type": "code",
   "execution_count": 5,
   "metadata": {},
   "outputs": [
    {
     "name": "stdout",
     "output_type": "stream",
     "text": [
      "Penentuan bilangan genap atau ganjil\n",
      "------------------------------------\n",
      "Bilangan : 5\n",
      "Bilangan 5 merupakan bilangan ganjil\n"
     ]
    }
   ],
   "source": [
    "# menentukan bilangan genap atau ganjil\n",
    "# menggunakan if else\n",
    "\n",
    "print(\"Penentuan bilangan genap atau ganjil\")\n",
    "print('------------------------------------')\n",
    "\n",
    "bil = int(input('Bilangan : '))\n",
    "\n",
    "# penentuan bilangan genap atau ganjil\n",
    "if bil % 2 == 0:\n",
    "    print('Bilangan', bil ,'merupakan bilangan genap')\n",
    "else:\n",
    "    print('Bilangan', bil ,'merupakan bilangan ganjil')"
   ]
  },
  {
   "cell_type": "code",
   "execution_count": 6,
   "metadata": {},
   "outputs": [
    {
     "name": "stdout",
     "output_type": "stream",
     "text": [
      "Perhitungan huruf\n",
      "-----------------\n",
      "Masukkan string : Bu memey lagi belajar Anaconda\n",
      "Jumlah huruf kapital : 2\n",
      "Jumlah huruf kecil : 24\n"
     ]
    }
   ],
   "source": [
    "# perhitungan huruf\n",
    "print(\"Perhitungan huruf\")\n",
    "print('-----------------')\n",
    "\n",
    "teks = input(\"Masukkan string : \")\n",
    "\n",
    "jumHurufKapital = 0\n",
    "jumHurufKecil = 0\n",
    "\n",
    "# perhitungan huruf kecil dan huruf besar\n",
    "for j in range(0, len(teks)):\n",
    "    kar = teks[j]\n",
    "    if kar.isupper():\n",
    "        jumHurufKapital = jumHurufKapital + 1\n",
    "    elif kar.islower():\n",
    "        jumHurufKecil = jumHurufKecil + 1\n",
    "\n",
    "print('Jumlah huruf kapital :', jumHurufKapital)\n",
    "print('Jumlah huruf kecil :', jumHurufKecil)"
   ]
  },
  {
   "cell_type": "code",
   "execution_count": 18,
   "metadata": {},
   "outputs": [
    {
     "name": "stdout",
     "output_type": "stream",
     "text": [
      "Jari-jari = 5.7\n",
      "Luas 204.14069\n"
     ]
    }
   ],
   "source": [
    "import math\n",
    "\n",
    "jejari = float(input('Jari-jari = '))\n",
    "luas = 2 * math.pi * jejari * jejari\n",
    "print(\"Luas %.5f\" %(luas))"
   ]
  },
  {
   "cell_type": "code",
   "execution_count": 37,
   "metadata": {},
   "outputs": [
    {
     "name": "stdout",
     "output_type": "stream",
     "text": [
      "Input Nilai ke- 1\n",
      "Masukkan nilai anda : 1\n",
      "Input Nilai ke- 2\n",
      "Masukkan nilai anda : 1\n",
      "Input Nilai ke- 3\n",
      "Masukkan nilai anda : 1\n",
      "======Hasil=====\n",
      "Nilai Rata-rata 3 bilangan adalah 1.0\n"
     ]
    }
   ],
   "source": [
    "import math\n",
    "a = 3\n",
    "b = 1\n",
    "jum = []\n",
    "for j in range(0, a):\n",
    "    print(\"Input Nilai ke-\",b)\n",
    "    nilai = float(input(\"Masukkan nilai anda : \"))\n",
    "    jum.append(nilai)\n",
    "    b += 1\n",
    "    \n",
    "# fungsi tambah dan rumus rata-rata\n",
    "rerata = sum(jum)/a\n",
    "print('======Hasil=====')\n",
    "print('Nilai Rata-rata 3 bilangan adalah' ,rerata)\n",
    "    "
   ]
  },
  {
   "cell_type": "code",
   "execution_count": null,
   "metadata": {},
   "outputs": [],
   "source": [
    " "
   ]
  }
 ],
 "metadata": {
  "kernelspec": {
   "display_name": "Python 3",
   "language": "python",
   "name": "python3"
  },
  "language_info": {
   "codemirror_mode": {
    "name": "ipython",
    "version": 3
   },
   "file_extension": ".py",
   "mimetype": "text/x-python",
   "name": "python",
   "nbconvert_exporter": "python",
   "pygments_lexer": "ipython3",
   "version": "3.7.0"
  }
 },
 "nbformat": 4,
 "nbformat_minor": 2
}
